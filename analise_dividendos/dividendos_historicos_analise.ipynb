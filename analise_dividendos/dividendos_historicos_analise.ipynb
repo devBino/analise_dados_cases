{
 "cells": [
  {
   "cell_type": "markdown",
   "id": "4a413efb-7cf4-4226-9806-6a2d2153f563",
   "metadata": {},
   "source": [
    "# Análise de Dividendos Históricos para Manutenção de Portfólio de FIIs"
   ]
  },
  {
   "cell_type": "markdown",
   "id": "3b82780b-328d-464c-892d-895bbb4a85fd",
   "metadata": {},
   "source": [
    "## Objeivos"
   ]
  },
  {
   "cell_type": "markdown",
   "id": "f3aa3c8f-78bf-4c67-8bf7-58fbdb7791e7",
   "metadata": {},
   "source": [
    "- Praticar análise de dados\n",
    "- Obter insights para manutenção de portfólio de ativos com base na análise dos dividendos históricos\n",
    "- Identificar ativos que potencialmente podem ser removidos do portfólio, ou diminuir a posição\n",
    "- Identificar ativos que podem representar uma oportunidade de investimento dentro do portfólio"
   ]
  },
  {
   "cell_type": "markdown",
   "id": "0efa8b80-1fd1-476f-b50f-47f2d0b07739",
   "metadata": {},
   "source": [
    "## Dados Históricos"
   ]
  },
  {
   "cell_type": "markdown",
   "id": "41a21670-b0a3-4cfa-b336-1a89401823e9",
   "metadata": {},
   "source": [
    "**Os dados foram extraídos do histórico de dividendos de uma conta no MyProfit disponível em https://myprofitweb.com/**"
   ]
  },
  {
   "cell_type": "code",
   "execution_count": 105,
   "id": "933b2eee-049a-412f-8e62-6c294c0174bc",
   "metadata": {
    "scrolled": true
   },
   "outputs": [
    {
     "data": {
      "text/html": [
       "<div>\n",
       "<style scoped>\n",
       "    .dataframe tbody tr th:only-of-type {\n",
       "        vertical-align: middle;\n",
       "    }\n",
       "\n",
       "    .dataframe tbody tr th {\n",
       "        vertical-align: top;\n",
       "    }\n",
       "\n",
       "    .dataframe thead th {\n",
       "        text-align: right;\n",
       "    }\n",
       "</style>\n",
       "<table border=\"1\" class=\"dataframe\">\n",
       "  <thead>\n",
       "    <tr style=\"text-align: right;\">\n",
       "      <th></th>\n",
       "      <th>Ativo</th>\n",
       "      <th>Minha Categoria</th>\n",
       "      <th>Recebido</th>\n",
       "      <th>Total investido</th>\n",
       "      <th>Total atual</th>\n",
       "      <th>Data pgto.</th>\n",
       "      <th>Data COM</th>\n",
       "      <th>YOC</th>\n",
       "      <th>DY</th>\n",
       "      <th>Cotas</th>\n",
       "      <th>Preço médio</th>\n",
       "      <th>Cotação</th>\n",
       "      <th>Valor por cota</th>\n",
       "      <th>YOC_DY</th>\n",
       "      <th>VALOR_DY_COTA</th>\n",
       "    </tr>\n",
       "  </thead>\n",
       "  <tbody>\n",
       "    <tr>\n",
       "      <th>1</th>\n",
       "      <td>BCFF11</td>\n",
       "      <td>Renda Variavel</td>\n",
       "      <td>R$ 21,71</td>\n",
       "      <td>R$ 3.217,53</td>\n",
       "      <td>R$ 2.812,00</td>\n",
       "      <td>2022-01-14</td>\n",
       "      <td>2022-01-07</td>\n",
       "      <td>0.67 %</td>\n",
       "      <td>0.77 %</td>\n",
       "      <td>40</td>\n",
       "      <td>R$ 80,4383</td>\n",
       "      <td>R$ 70,30</td>\n",
       "      <td>R$ 0,54</td>\n",
       "      <td>0.10</td>\n",
       "      <td>0.54</td>\n",
       "    </tr>\n",
       "    <tr>\n",
       "      <th>2</th>\n",
       "      <td>KNRI11</td>\n",
       "      <td>Renda Variavel</td>\n",
       "      <td>R$ 22,88</td>\n",
       "      <td>R$ 3.790,44</td>\n",
       "      <td>R$ 3.488,68</td>\n",
       "      <td>2022-01-14</td>\n",
       "      <td>2021-12-30</td>\n",
       "      <td>0.60 %</td>\n",
       "      <td>0.66 %</td>\n",
       "      <td>26</td>\n",
       "      <td>R$ 145,7863</td>\n",
       "      <td>R$ 134,18</td>\n",
       "      <td>R$ 0,88</td>\n",
       "      <td>0.06</td>\n",
       "      <td>0.88</td>\n",
       "    </tr>\n",
       "    <tr>\n",
       "      <th>3</th>\n",
       "      <td>MXRF11</td>\n",
       "      <td>Renda Variavel</td>\n",
       "      <td>R$ 16,83</td>\n",
       "      <td>R$ 1.952,38</td>\n",
       "      <td>R$ 1.871,87</td>\n",
       "      <td>2022-01-14</td>\n",
       "      <td>2021-12-30</td>\n",
       "      <td>0.86 %</td>\n",
       "      <td>0.90 %</td>\n",
       "      <td>187</td>\n",
       "      <td>R$ 10,4406</td>\n",
       "      <td>R$ 10,01</td>\n",
       "      <td>R$ 0,09</td>\n",
       "      <td>0.04</td>\n",
       "      <td>0.09</td>\n",
       "    </tr>\n",
       "    <tr>\n",
       "      <th>4</th>\n",
       "      <td>RBFF11</td>\n",
       "      <td>Renda Variavel</td>\n",
       "      <td>R$ 7,05</td>\n",
       "      <td>R$ 930,07</td>\n",
       "      <td>R$ 855,45</td>\n",
       "      <td>2022-01-14</td>\n",
       "      <td>2021-12-30</td>\n",
       "      <td>0.76 %</td>\n",
       "      <td>0.82 %</td>\n",
       "      <td>15</td>\n",
       "      <td>R$ 62,0045</td>\n",
       "      <td>R$ 57,03</td>\n",
       "      <td>R$ 0,47</td>\n",
       "      <td>0.06</td>\n",
       "      <td>0.47</td>\n",
       "    </tr>\n",
       "    <tr>\n",
       "      <th>5</th>\n",
       "      <td>RBVA11</td>\n",
       "      <td>Renda Variavel</td>\n",
       "      <td>R$ 7,28</td>\n",
       "      <td>R$ 860,42</td>\n",
       "      <td>R$ 819,92</td>\n",
       "      <td>2022-01-14</td>\n",
       "      <td>2021-12-30</td>\n",
       "      <td>0.85 %</td>\n",
       "      <td>0.89 %</td>\n",
       "      <td>8</td>\n",
       "      <td>R$ 107,5523</td>\n",
       "      <td>R$ 102,49</td>\n",
       "      <td>R$ 0,91</td>\n",
       "      <td>0.04</td>\n",
       "      <td>0.91</td>\n",
       "    </tr>\n",
       "    <tr>\n",
       "      <th>...</th>\n",
       "      <td>...</td>\n",
       "      <td>...</td>\n",
       "      <td>...</td>\n",
       "      <td>...</td>\n",
       "      <td>...</td>\n",
       "      <td>...</td>\n",
       "      <td>...</td>\n",
       "      <td>...</td>\n",
       "      <td>...</td>\n",
       "      <td>...</td>\n",
       "      <td>...</td>\n",
       "      <td>...</td>\n",
       "      <td>...</td>\n",
       "      <td>...</td>\n",
       "      <td>...</td>\n",
       "    </tr>\n",
       "    <tr>\n",
       "      <th>147</th>\n",
       "      <td>KNRI11</td>\n",
       "      <td>Renda Variavel</td>\n",
       "      <td>R$ 1,95</td>\n",
       "      <td>R$ 541,12</td>\n",
       "      <td>R$ 458,22</td>\n",
       "      <td>2020-04-15</td>\n",
       "      <td>2020-03-31</td>\n",
       "      <td>0.36 %</td>\n",
       "      <td>0.43 %</td>\n",
       "      <td>3</td>\n",
       "      <td>R$ 180,3736</td>\n",
       "      <td>R$ 152,74</td>\n",
       "      <td>R$ 0,65</td>\n",
       "      <td>0.07</td>\n",
       "      <td>0.65</td>\n",
       "    </tr>\n",
       "    <tr>\n",
       "      <th>150</th>\n",
       "      <td>BCFF11</td>\n",
       "      <td>Renda Variavel</td>\n",
       "      <td>R$ 1,06</td>\n",
       "      <td>R$ 212,95</td>\n",
       "      <td>R$ 196,90</td>\n",
       "      <td>2020-03-13</td>\n",
       "      <td>2020-03-06</td>\n",
       "      <td>0.50 %</td>\n",
       "      <td>0.54 %</td>\n",
       "      <td>2</td>\n",
       "      <td>R$ 106,4750</td>\n",
       "      <td>R$ 98,45</td>\n",
       "      <td>R$ 0,53</td>\n",
       "      <td>0.04</td>\n",
       "      <td>0.53</td>\n",
       "    </tr>\n",
       "    <tr>\n",
       "      <th>151</th>\n",
       "      <td>KNRI11</td>\n",
       "      <td>Renda Variavel</td>\n",
       "      <td>R$ 2,22</td>\n",
       "      <td>R$ 541,12</td>\n",
       "      <td>R$ 512,85</td>\n",
       "      <td>2020-03-13</td>\n",
       "      <td>2020-02-28</td>\n",
       "      <td>0.41 %</td>\n",
       "      <td>0.43 %</td>\n",
       "      <td>3</td>\n",
       "      <td>R$ 180,3736</td>\n",
       "      <td>R$ 170,95</td>\n",
       "      <td>R$ 0,74</td>\n",
       "      <td>0.02</td>\n",
       "      <td>0.74</td>\n",
       "    </tr>\n",
       "    <tr>\n",
       "      <th>157</th>\n",
       "      <td>BCFF11</td>\n",
       "      <td>Renda Variavel</td>\n",
       "      <td>R$ 1,14</td>\n",
       "      <td>R$ 212,95</td>\n",
       "      <td>R$ 202,34</td>\n",
       "      <td>2020-02-14</td>\n",
       "      <td>2020-02-07</td>\n",
       "      <td>0.54 %</td>\n",
       "      <td>0.56 %</td>\n",
       "      <td>2</td>\n",
       "      <td>R$ 106,4750</td>\n",
       "      <td>R$ 101,17</td>\n",
       "      <td>R$ 0,57</td>\n",
       "      <td>0.02</td>\n",
       "      <td>0.57</td>\n",
       "    </tr>\n",
       "    <tr>\n",
       "      <th>158</th>\n",
       "      <td>KNRI11</td>\n",
       "      <td>Renda Variavel</td>\n",
       "      <td>R$ 0,74</td>\n",
       "      <td>R$ 181,35</td>\n",
       "      <td>R$ 180,90</td>\n",
       "      <td>2020-02-14</td>\n",
       "      <td>2020-01-31</td>\n",
       "      <td>0.41 %</td>\n",
       "      <td>0.41 %</td>\n",
       "      <td>1</td>\n",
       "      <td>R$ 181,3513</td>\n",
       "      <td>R$ 180,90</td>\n",
       "      <td>R$ 0,74</td>\n",
       "      <td>0.00</td>\n",
       "      <td>0.74</td>\n",
       "    </tr>\n",
       "  </tbody>\n",
       "</table>\n",
       "<p>80 rows × 15 columns</p>\n",
       "</div>"
      ],
      "text/plain": [
       "      Ativo Minha Categoria  Recebido Total investido  Total atual Data pgto.  \\\n",
       "1    BCFF11  Renda Variavel  R$ 21,71     R$ 3.217,53  R$ 2.812,00 2022-01-14   \n",
       "2    KNRI11  Renda Variavel  R$ 22,88     R$ 3.790,44  R$ 3.488,68 2022-01-14   \n",
       "3    MXRF11  Renda Variavel  R$ 16,83     R$ 1.952,38  R$ 1.871,87 2022-01-14   \n",
       "4    RBFF11  Renda Variavel   R$ 7,05       R$ 930,07    R$ 855,45 2022-01-14   \n",
       "5    RBVA11  Renda Variavel   R$ 7,28       R$ 860,42    R$ 819,92 2022-01-14   \n",
       "..      ...             ...       ...             ...          ...        ...   \n",
       "147  KNRI11  Renda Variavel   R$ 1,95       R$ 541,12    R$ 458,22 2020-04-15   \n",
       "150  BCFF11  Renda Variavel   R$ 1,06       R$ 212,95    R$ 196,90 2020-03-13   \n",
       "151  KNRI11  Renda Variavel   R$ 2,22       R$ 541,12    R$ 512,85 2020-03-13   \n",
       "157  BCFF11  Renda Variavel   R$ 1,14       R$ 212,95    R$ 202,34 2020-02-14   \n",
       "158  KNRI11  Renda Variavel   R$ 0,74       R$ 181,35    R$ 180,90 2020-02-14   \n",
       "\n",
       "      Data COM     YOC      DY  Cotas  Preço médio    Cotação Valor por cota  \\\n",
       "1   2022-01-07  0.67 %  0.77 %     40   R$ 80,4383   R$ 70,30        R$ 0,54   \n",
       "2   2021-12-30  0.60 %  0.66 %     26  R$ 145,7863  R$ 134,18        R$ 0,88   \n",
       "3   2021-12-30  0.86 %  0.90 %    187   R$ 10,4406   R$ 10,01        R$ 0,09   \n",
       "4   2021-12-30  0.76 %  0.82 %     15   R$ 62,0045   R$ 57,03        R$ 0,47   \n",
       "5   2021-12-30  0.85 %  0.89 %      8  R$ 107,5523  R$ 102,49        R$ 0,91   \n",
       "..         ...     ...     ...    ...          ...        ...            ...   \n",
       "147 2020-03-31  0.36 %  0.43 %      3  R$ 180,3736  R$ 152,74        R$ 0,65   \n",
       "150 2020-03-06  0.50 %  0.54 %      2  R$ 106,4750   R$ 98,45        R$ 0,53   \n",
       "151 2020-02-28  0.41 %  0.43 %      3  R$ 180,3736  R$ 170,95        R$ 0,74   \n",
       "157 2020-02-07  0.54 %  0.56 %      2  R$ 106,4750  R$ 101,17        R$ 0,57   \n",
       "158 2020-01-31  0.41 %  0.41 %      1  R$ 181,3513  R$ 180,90        R$ 0,74   \n",
       "\n",
       "     YOC_DY  VALOR_DY_COTA  \n",
       "1      0.10           0.54  \n",
       "2      0.06           0.88  \n",
       "3      0.04           0.09  \n",
       "4      0.06           0.47  \n",
       "5      0.04           0.91  \n",
       "..      ...            ...  \n",
       "147    0.07           0.65  \n",
       "150    0.04           0.53  \n",
       "151    0.02           0.74  \n",
       "157    0.02           0.57  \n",
       "158    0.00           0.74  \n",
       "\n",
       "[80 rows x 15 columns]"
      ]
     },
     "metadata": {},
     "output_type": "display_data"
    }
   ],
   "source": [
    "import pandas as pd\n",
    "dados = pd.read_csv('dividendos.csv', decimal=',', thousands='.', parse_dates=['Data pgto.','Data COM'], dayfirst=True)\n",
    "\n",
    "limite_meses_relatorios = 12\n",
    "\n",
    "#filtrando pela categoria configurada como Renda Variavel no MyProfitWeb\n",
    "dados = dados[ dados['Minha Categoria'] == 'Renda Variavel' ]\n",
    "\n",
    "#eliminando 2 ativos que não existem mais no portfólio, mas que são trazidos na massa de dados\n",
    "dados = dados[ dados['Ativo'] != 'XPLG11' ]\n",
    "dados = dados[ dados['Ativo'] != 'HSLG11' ]\n",
    "\n",
    "#calculando diferença entre DY - YOC e criando nova coluna no DataFrame para posterior utilização\n",
    "dados['YOC_DY'] = dados['DY'].str.replace(' %','').astype(float) - dados['YOC'].str.replace(' %','').astype(float)\n",
    "\n",
    "#tratando valor por cota para posterior utilização\n",
    "dados['VALOR_DY_COTA'] = dados['Valor por cota'].str.replace('R$ ','').str.replace(',','.').astype(float)\n",
    "\n",
    "display(dados)"
   ]
  },
  {
   "cell_type": "markdown",
   "id": "2273651b-58c4-4d5f-9d63-87e5bffd42a2",
   "metadata": {},
   "source": [
    "## Dividendos Recebidos por ativo"
   ]
  },
  {
   "cell_type": "markdown",
   "id": "40449720-54af-4282-8c06-c5e9250fff09",
   "metadata": {},
   "source": [
    "**Começamos agrupando os dividendos recebidos por ativo, ordenados do maior pagador para o menor**\n",
    "Importante considerar que nem todos os ativos irão possuir a mesma quantidade de cotas, então aqui só um panorama de distribuição por ativo"
   ]
  },
  {
   "cell_type": "code",
   "execution_count": 106,
   "id": "697f2cff-6e29-4337-8365-0c2d59186108",
   "metadata": {},
   "outputs": [
    {
     "data": {
      "text/html": [
       "<div>\n",
       "<style scoped>\n",
       "    .dataframe tbody tr th:only-of-type {\n",
       "        vertical-align: middle;\n",
       "    }\n",
       "\n",
       "    .dataframe tbody tr th {\n",
       "        vertical-align: top;\n",
       "    }\n",
       "\n",
       "    .dataframe thead th {\n",
       "        text-align: right;\n",
       "    }\n",
       "</style>\n",
       "<table border=\"1\" class=\"dataframe\">\n",
       "  <thead>\n",
       "    <tr style=\"text-align: right;\">\n",
       "      <th></th>\n",
       "      <th>Dividendos</th>\n",
       "    </tr>\n",
       "    <tr>\n",
       "      <th>Ativo</th>\n",
       "      <th></th>\n",
       "    </tr>\n",
       "  </thead>\n",
       "  <tbody>\n",
       "    <tr>\n",
       "      <th>BCFF11</th>\n",
       "      <td>242.92</td>\n",
       "    </tr>\n",
       "    <tr>\n",
       "      <th>MXRF11</th>\n",
       "      <td>188.48</td>\n",
       "    </tr>\n",
       "    <tr>\n",
       "      <th>KNRI11</th>\n",
       "      <td>181.37</td>\n",
       "    </tr>\n",
       "    <tr>\n",
       "      <th>RBVA11</th>\n",
       "      <td>37.32</td>\n",
       "    </tr>\n",
       "    <tr>\n",
       "      <th>RBFF11</th>\n",
       "      <td>36.19</td>\n",
       "    </tr>\n",
       "  </tbody>\n",
       "</table>\n",
       "</div>"
      ],
      "text/plain": [
       "        Dividendos\n",
       "Ativo             \n",
       "BCFF11      242.92\n",
       "MXRF11      188.48\n",
       "KNRI11      181.37\n",
       "RBVA11       37.32\n",
       "RBFF11       36.19"
      ]
     },
     "metadata": {},
     "output_type": "display_data"
    }
   ],
   "source": [
    "dados['Dividendos'] = dados['Recebido'].str.replace('R$ ','').str.replace(',','.').astype(float)\n",
    "recebido_por_ativo = dados[['Ativo','Dividendos']].groupby('Ativo').sum().sort_values(by='Dividendos', ascending=False)\n",
    "\n",
    "display(recebido_por_ativo)"
   ]
  },
  {
   "cell_type": "markdown",
   "id": "a8f1b688-79d0-4834-a61d-f9c98e8ed0c6",
   "metadata": {},
   "source": [
    "## Relação DY - YOC agrupadas por ativo nos últimos 12 meses"
   ]
  },
  {
   "cell_type": "markdown",
   "id": "62277f16-0053-4aca-bcf5-3929314b1b9e",
   "metadata": {},
   "source": [
    "Ao calcular o Dividend Yield menos o Yield on Cost é possível, se o resultado for positivo, indica um aumento nos dividendos\n",
    "ou uma queda na cotação do ativo, e dependendo de uma análise qualitativa no ativo que atender a esse cenário, pode valer a pena o aporte\n",
    "\n",
    "**Para Calcular o DY do mês basta dividir o valor do dividendo pago por cota pelo valor da cotação e multiplicar por 100**\n",
    "\n",
    "**Cenário 1 - Dividendo estável, e queda da cotação**\n",
    "Se possuirmos 10 cotas do ativo ABC123 custando 100,00 cada uma, e mensalmente recebemos 1,00 em dividendos por cota, \n",
    "então nosso YOC é 1.00 (1,00 / 100,00) X 100.\n",
    "Agora imaginemos que o valor da cota do ativo ABC123 caiu para 95,00, mas os dividendos permanecem os mesmos 1,00 por cota, agora passamos a ter\n",
    "um DY maior que o YOC, a saber um DY de 1.05 (1,00 / 95,00) X 100 maior que o YOC de 1.00. Isso graças a queda da cotação de \n",
    "100,00 para 95,00.\n",
    "Isso mostra um cenário favorável já que o que caiu foi a cotação do ativo, e não o dividendo.\n",
    "\n",
    "**Cenário 2 - Cotação relativamente estável, e crescimento do dividendo**\n",
    "Pensando no mesmo exemplo de Cenário 1, imaginemos que a cotação permaneceu em 100,00 e o dividendo cresceu para 1,10, \n",
    "nesse caso o DY também passa a ser maior que o YOC, o DY vale 1.10 (1,10 / 100,00) X 100.\n",
    "\n",
    "Por esse motivo, abaixo os ativos estão sendo agrupados, considerando as distribuições dos ultimos 12 meses, \n",
    "calculando o percentual de ocorrências para cada ativo onde essa relação DY - YOC é positiva, e esses ativos \n",
    "com essa relação positiva são os que nos interessam, porque ou a cotação caiu e o dividendo é estável, ou a cotação\n",
    "se manteve relativamente estável e o dividendo cresceu.\n"
   ]
  },
  {
   "cell_type": "code",
   "execution_count": 107,
   "id": "b003f9d1-f894-48a4-9cb4-c3ba26df155c",
   "metadata": {
    "scrolled": true
   },
   "outputs": [
    {
     "data": {
      "text/html": [
       "<div>\n",
       "<style scoped>\n",
       "    .dataframe tbody tr th:only-of-type {\n",
       "        vertical-align: middle;\n",
       "    }\n",
       "\n",
       "    .dataframe tbody tr th {\n",
       "        vertical-align: top;\n",
       "    }\n",
       "\n",
       "    .dataframe thead th {\n",
       "        text-align: right;\n",
       "    }\n",
       "</style>\n",
       "<table border=\"1\" class=\"dataframe\">\n",
       "  <thead>\n",
       "    <tr style=\"text-align: right;\">\n",
       "      <th></th>\n",
       "      <th>Ativo</th>\n",
       "      <th>Registros</th>\n",
       "      <th>Negativos</th>\n",
       "      <th>ParcialNegativos</th>\n",
       "    </tr>\n",
       "  </thead>\n",
       "  <tbody>\n",
       "    <tr>\n",
       "      <th>1</th>\n",
       "      <td>KNRI11</td>\n",
       "      <td>12</td>\n",
       "      <td>12</td>\n",
       "      <td>100.00</td>\n",
       "    </tr>\n",
       "    <tr>\n",
       "      <th>3</th>\n",
       "      <td>RBFF11</td>\n",
       "      <td>7</td>\n",
       "      <td>7</td>\n",
       "      <td>100.00</td>\n",
       "    </tr>\n",
       "    <tr>\n",
       "      <th>4</th>\n",
       "      <td>RBVA11</td>\n",
       "      <td>7</td>\n",
       "      <td>5</td>\n",
       "      <td>71.43</td>\n",
       "    </tr>\n",
       "    <tr>\n",
       "      <th>0</th>\n",
       "      <td>BCFF11</td>\n",
       "      <td>12</td>\n",
       "      <td>8</td>\n",
       "      <td>66.67</td>\n",
       "    </tr>\n",
       "    <tr>\n",
       "      <th>2</th>\n",
       "      <td>MXRF11</td>\n",
       "      <td>12</td>\n",
       "      <td>8</td>\n",
       "      <td>66.67</td>\n",
       "    </tr>\n",
       "  </tbody>\n",
       "</table>\n",
       "</div>"
      ],
      "text/plain": [
       "    Ativo  Registros  Negativos  ParcialNegativos\n",
       "1  KNRI11         12         12            100.00\n",
       "3  RBFF11          7          7            100.00\n",
       "4  RBVA11          7          5             71.43\n",
       "0  BCFF11         12          8             66.67\n",
       "2  MXRF11         12          8             66.67"
      ]
     },
     "metadata": {},
     "output_type": "display_data"
    }
   ],
   "source": [
    "ativos = dados['Ativo'].unique()\n",
    "\n",
    "relatorio_dy_yoc = []\n",
    "\n",
    "for i, a in enumerate(ativos):    \n",
    "    \n",
    "    registros_ativo = dados[ dados['Ativo'] == a ][:limite_meses_relatorios]\n",
    "    registros_positivos = registros_ativo[ registros_ativo['YOC_DY'] > 0.0 ]\n",
    "\n",
    "    total_registros_ativo = len(registros_ativo)\n",
    "    total_registros_positivos = len(registros_positivos)\n",
    "    parcial_positivos = (total_registros_positivos / total_registros_ativo) * 100\n",
    "    \n",
    "    relatorio_dy_yoc.append({'Ativo':a, 'Registros':total_registros_ativo, 'Negativos':total_registros_positivos,'ParcialNegativos':round(parcial_positivos, 2)})\n",
    "\n",
    "df_relatorio = pd.DataFrame(relatorio_dy_yoc).sort_values(by='ParcialNegativos', ascending=False)\n",
    "\n",
    "display(df_relatorio)"
   ]
  },
  {
   "cell_type": "markdown",
   "id": "dccf47ac-9ae0-426d-b04c-26f515b48c99",
   "metadata": {},
   "source": [
    "## Distribuição de Dividendos para Ativos com relação DY - YOC positiva"
   ]
  },
  {
   "cell_type": "markdown",
   "id": "f588322c-f17e-41f8-8fbc-4291df05b5c0",
   "metadata": {},
   "source": [
    "Agora, filtrando apenas os ativos com relação DY - YOC positiva é exibido um gráfico de frequências dos valores de dividendos distribuidos nos últimos 12 meses, o ativo que possuir menos barras de frequencia no gráfico possui o dividendo mais estável, já que na distribuição de frequências não teve variações."
   ]
  },
  {
   "cell_type": "code",
   "execution_count": 108,
   "id": "66384da2-d7a2-43b2-8a9a-16150bd31919",
   "metadata": {},
   "outputs": [
    {
     "data": {
      "image/png": "[encoded data removed]",
      "text/plain": [
       "<Figure size 640x480 with 1 Axes>"
      ]
     },
     "metadata": {},
     "output_type": "display_data"
    },
    {
     "data": {
      "image/png": "[encoded data removed]",
      "text/plain": [
       "<Figure size 640x480 with 1 Axes>"
      ]
     },
     "metadata": {},
     "output_type": "display_data"
    },
    {
     "data": {
      "image/png": "[encoded data removed]",
      "text/plain": [
       "<Figure size 640x480 with 1 Axes>"
      ]
     },
     "metadata": {},
     "output_type": "display_data"
    },
    {
     "data": {
      "image/png": "[encoded data removed]",
      "text/plain": [
       "<Figure size 640x480 with 1 Axes>"
      ]
     },
     "metadata": {},
     "output_type": "display_data"
    },
    {
     "data": {
      "image/png": "[encoded data removed]",
      "text/plain": [
       "<Figure size 640x480 with 1 Axes>"
      ]
     },
     "metadata": {},
     "output_type": "display_data"
    }
   ],
   "source": [
    "import matplotlib.pyplot as plt\n",
    "ativos_relacao_positiva = df_relatorio[df_relatorio['ParcialNegativos'] > 0.0]\n",
    " \n",
    "for a in ativos_relacao_positiva['Ativo'].unique():\n",
    "    filtro_registros_ativo = dados['Ativo'] == a\n",
    "    registros_ativo = dados[filtro_registros_ativo][:limite_meses_relatorios]\n",
    "\n",
    "    plt.hist(registros_ativo['VALOR_DY_COTA'], bins=20, color='skyblue', edgecolor='black')\n",
    "    plt.title(a + ' - Distribuição de Proventos')\n",
    "    plt.xlabel('Valor')\n",
    "    plt.ylabel('Frequência')\n",
    "    plt.grid(True)\n",
    "\n",
    "    plt.show()\n"
   ]
  },
  {
   "cell_type": "markdown",
   "id": "affff012-051c-4891-91cd-e003473fb84b",
   "metadata": {},
   "source": [
    "## Distribuição de Dividendos para Ativos com relação DY - YOC negativa ou neutra"
   ]
  },
  {
   "cell_type": "markdown",
   "id": "02246e0d-0912-4612-b589-2cd204154871",
   "metadata": {},
   "source": [
    "Agora precisamos examinar os ativos com relação negativa ou neutra, cenário que pode significar que a cotação do ativo aumentou mas \n",
    "o DY permaneceu estável"
   ]
  },
  {
   "cell_type": "code",
   "execution_count": 109,
   "id": "26ca4fb4-ff9b-4dd4-960f-c6b8adbd285b",
   "metadata": {},
   "outputs": [],
   "source": [
    "import matplotlib.pyplot as plt\n",
    "ativos = df_relatorio[df_relatorio['ParcialNegativos'] <= 0.0]\n",
    "\n",
    "for a in ativos['Ativo'].unique():\n",
    "    filtro = dados['Ativo'] == a\n",
    "    registros = dados[filtro][:limite_meses_relatorios]\n",
    "\n",
    "    plt.hist(registros['VALOR_DY_COTA'], bins=20, color='skyblue', edgecolor='black')\n",
    "    plt.title(a + ' - Distribuição de Proventos')\n",
    "    plt.xlabel('Valor')\n",
    "    plt.ylabel('Frequência')\n",
    "    plt.grid(True)\n",
    "\n",
    "    plt.show()\n"
   ]
  }
 ],
 "metadata": {
  "kernelspec": {
   "display_name": "Python 3 (ipykernel)",
   "language": "python",
   "name": "python3"
  },
  "language_info": {
   "codemirror_mode": {
    "name": "ipython",
    "version": 3
   },
   "file_extension": ".py",
   "mimetype": "text/x-python",
   "name": "python",
   "nbconvert_exporter": "python",
   "pygments_lexer": "ipython3",
   "version": "3.11.7"
  }
 },
 "nbformat": 4,
 "nbformat_minor": 5
}
