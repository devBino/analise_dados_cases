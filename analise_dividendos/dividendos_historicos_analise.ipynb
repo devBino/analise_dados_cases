{
 "cells": [
  {
   "cell_type": "markdown",
   "id": "4a413efb-7cf4-4226-9806-6a2d2153f563",
   "metadata": {},
   "source": [
    "# Análise de Dividendos Históricos para Balanceamento de Aportes"
   ]
  },
  {
   "cell_type": "markdown",
   "id": "0efa8b80-1fd1-476f-b50f-47f2d0b07739",
   "metadata": {},
   "source": [
    "## Dados Históricos"
   ]
  },
  {
   "cell_type": "code",
   "execution_count": 67,
   "id": "933b2eee-049a-412f-8e62-6c294c0174bc",
   "metadata": {
    "scrolled": true
   },
   "outputs": [
    {
     "data": {
      "text/html": [
       "<div>\n",
       "<style scoped>\n",
       "    .dataframe tbody tr th:only-of-type {\n",
       "        vertical-align: middle;\n",
       "    }\n",
       "\n",
       "    .dataframe tbody tr th {\n",
       "        vertical-align: top;\n",
       "    }\n",
       "\n",
       "    .dataframe thead th {\n",
       "        text-align: right;\n",
       "    }\n",
       "</style>\n",
       "<table border=\"1\" class=\"dataframe\">\n",
       "  <thead>\n",
       "    <tr style=\"text-align: right;\">\n",
       "      <th></th>\n",
       "      <th>Ativo</th>\n",
       "      <th>Minha Categoria</th>\n",
       "      <th>Recebido</th>\n",
       "      <th>Total investido</th>\n",
       "      <th>Total atual</th>\n",
       "      <th>Data pgto.</th>\n",
       "      <th>Data COM</th>\n",
       "      <th>YOC</th>\n",
       "      <th>DY</th>\n",
       "      <th>Cotas</th>\n",
       "      <th>Preço médio</th>\n",
       "      <th>Cotação</th>\n",
       "      <th>Valor por cota</th>\n",
       "    </tr>\n",
       "  </thead>\n",
       "  <tbody>\n",
       "    <tr>\n",
       "      <th>1</th>\n",
       "      <td>BCFF11</td>\n",
       "      <td>Renda Variavel</td>\n",
       "      <td>R$ 1,14</td>\n",
       "      <td>R$ 212,95</td>\n",
       "      <td>R$ 202,34</td>\n",
       "      <td>14/02/2020</td>\n",
       "      <td>07/02/2020</td>\n",
       "      <td>0.54 %</td>\n",
       "      <td>0.56 %</td>\n",
       "      <td>2</td>\n",
       "      <td>R$ 106,4750</td>\n",
       "      <td>R$ 101,17</td>\n",
       "      <td>R$ 0,57</td>\n",
       "    </tr>\n",
       "    <tr>\n",
       "      <th>2</th>\n",
       "      <td>KNRI11</td>\n",
       "      <td>Renda Variavel</td>\n",
       "      <td>R$ 0,74</td>\n",
       "      <td>R$ 181,35</td>\n",
       "      <td>R$ 180,90</td>\n",
       "      <td>14/02/2020</td>\n",
       "      <td>31/01/2020</td>\n",
       "      <td>0.41 %</td>\n",
       "      <td>0.41 %</td>\n",
       "      <td>1</td>\n",
       "      <td>R$ 181,3513</td>\n",
       "      <td>R$ 180,90</td>\n",
       "      <td>R$ 0,74</td>\n",
       "    </tr>\n",
       "    <tr>\n",
       "      <th>3</th>\n",
       "      <td>XPLG11</td>\n",
       "      <td>Renda Variavel</td>\n",
       "      <td>R$ 0,64</td>\n",
       "      <td>R$ 136,72</td>\n",
       "      <td>R$ 134,86</td>\n",
       "      <td>14/02/2020</td>\n",
       "      <td>31/01/2020</td>\n",
       "      <td>0.47 %</td>\n",
       "      <td>0.47 %</td>\n",
       "      <td>1</td>\n",
       "      <td>R$ 136,7187</td>\n",
       "      <td>R$ 134,86</td>\n",
       "      <td>R$ 0,64</td>\n",
       "    </tr>\n",
       "  </tbody>\n",
       "</table>\n",
       "</div>"
      ],
      "text/plain": [
       "    Ativo Minha Categoria Recebido Total investido Total atual  Data pgto.  \\\n",
       "1  BCFF11  Renda Variavel  R$ 1,14       R$ 212,95   R$ 202,34  14/02/2020   \n",
       "2  KNRI11  Renda Variavel  R$ 0,74       R$ 181,35   R$ 180,90  14/02/2020   \n",
       "3  XPLG11  Renda Variavel  R$ 0,64       R$ 136,72   R$ 134,86  14/02/2020   \n",
       "\n",
       "     Data COM     YOC      DY  Cotas  Preço médio    Cotação Valor por cota  \n",
       "1  07/02/2020  0.54 %  0.56 %      2  R$ 106,4750  R$ 101,17        R$ 0,57  \n",
       "2  31/01/2020  0.41 %  0.41 %      1  R$ 181,3513  R$ 180,90        R$ 0,74  \n",
       "3  31/01/2020  0.47 %  0.47 %      1  R$ 136,7187  R$ 134,86        R$ 0,64  "
      ]
     },
     "metadata": {},
     "output_type": "display_data"
    }
   ],
   "source": [
    "import pandas as pd\n",
    "dados = pd.read_csv(\"dividendos.csv\")\n",
    "dados = dados[ dados['Minha Categoria'] == 'Renda Variavel' ]\n",
    "display(dados)"
   ]
  },
  {
   "cell_type": "markdown",
   "id": "c80646cc-6d06-4864-a77c-3e60e10eb0f8",
   "metadata": {},
   "source": [
    "## Valor Total em Dividendos Recebidos"
   ]
  },
  {
   "cell_type": "code",
   "execution_count": 68,
   "id": "3f26645f-9c80-464b-974a-5ea1abc6f0ab",
   "metadata": {
    "scrolled": true
   },
   "outputs": [
    {
     "name": "stdout",
     "output_type": "stream",
     "text": [
      "2.52\n"
     ]
    }
   ],
   "source": [
    "total_dy = dados['Recebido'].str.replace('R$ ','').str.replace(',','.').astype(float).sum()\n",
    "print(total_dy)"
   ]
  },
  {
   "cell_type": "markdown",
   "id": "c3d6883d-4fd1-462e-9245-a269afa5f9c8",
   "metadata": {},
   "source": [
    "## Valor Total em Dividendos Por Ativo"
   ]
  },
  {
   "cell_type": "code",
   "execution_count": 69,
   "id": "5b1d1b13-1917-4893-bde0-379a7fb816a6",
   "metadata": {},
   "outputs": [
    {
     "data": {
      "text/html": [
       "<div>\n",
       "<style scoped>\n",
       "    .dataframe tbody tr th:only-of-type {\n",
       "        vertical-align: middle;\n",
       "    }\n",
       "\n",
       "    .dataframe tbody tr th {\n",
       "        vertical-align: top;\n",
       "    }\n",
       "\n",
       "    .dataframe thead th {\n",
       "        text-align: right;\n",
       "    }\n",
       "</style>\n",
       "<table border=\"1\" class=\"dataframe\">\n",
       "  <thead>\n",
       "    <tr style=\"text-align: right;\">\n",
       "      <th></th>\n",
       "      <th>Dividendos</th>\n",
       "    </tr>\n",
       "    <tr>\n",
       "      <th>Ativo</th>\n",
       "      <th></th>\n",
       "    </tr>\n",
       "  </thead>\n",
       "  <tbody>\n",
       "    <tr>\n",
       "      <th>BCFF11</th>\n",
       "      <td>1.14</td>\n",
       "    </tr>\n",
       "    <tr>\n",
       "      <th>KNRI11</th>\n",
       "      <td>0.74</td>\n",
       "    </tr>\n",
       "    <tr>\n",
       "      <th>XPLG11</th>\n",
       "      <td>0.64</td>\n",
       "    </tr>\n",
       "  </tbody>\n",
       "</table>\n",
       "</div>"
      ],
      "text/plain": [
       "        Dividendos\n",
       "Ativo             \n",
       "BCFF11        1.14\n",
       "KNRI11        0.74\n",
       "XPLG11        0.64"
      ]
     },
     "metadata": {},
     "output_type": "display_data"
    }
   ],
   "source": [
    "dados['Dividendos'] = dados['Recebido'].str.replace('R$ ','').str.replace(',','.').astype(float)\n",
    "recebido_por_ativo = dados[['Ativo','Dividendos']].groupby('Ativo').sum().sort_values(by='Dividendos', ascending=False)\n",
    "\n",
    "display(recebido_por_ativo)"
   ]
  }
 ],
 "metadata": {
  "kernelspec": {
   "display_name": "Python 3 (ipykernel)",
   "language": "python",
   "name": "python3"
  },
  "language_info": {
   "codemirror_mode": {
    "name": "ipython",
    "version": 3
   },
   "file_extension": ".py",
   "mimetype": "text/x-python",
   "name": "python",
   "nbconvert_exporter": "python",
   "pygments_lexer": "ipython3",
   "version": "3.11.7"
  }
 },
 "nbformat": 4,
 "nbformat_minor": 5
}
